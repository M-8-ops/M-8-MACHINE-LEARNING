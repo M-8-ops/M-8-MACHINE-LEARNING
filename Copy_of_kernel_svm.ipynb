{
  "nbformat": 4,
  "nbformat_minor": 0,
  "metadata": {
    "colab": {
      "provenance": [],
      "machine_shape": "hm",
      "include_colab_link": true
    },
    "kernelspec": {
      "name": "python3",
      "display_name": "Python 3"
    }
  },
  "cells": [
    {
      "cell_type": "markdown",
      "metadata": {
        "id": "view-in-github",
        "colab_type": "text"
      },
      "source": [
        "<a href=\"https://colab.research.google.com/github/M-8-ops/M-8-Portfolio.github.io/blob/main/Copy_of_kernel_svm.ipynb\" target=\"_parent\"><img src=\"https://colab.research.google.com/assets/colab-badge.svg\" alt=\"Open In Colab\"/></a>"
      ]
    },
    {
      "cell_type": "markdown",
      "metadata": {
        "id": "0MRC0e0KhQ0S"
      },
      "source": [
        "# Kernel SVM"
      ]
    },
    {
      "cell_type": "markdown",
      "metadata": {
        "id": "LWd1UlMnhT2s"
      },
      "source": [
        "## Importing the libraries"
      ]
    },
    {
      "cell_type": "code",
      "source": [
        "import numpy as np\n",
        "import matplotlib.pyplot as plt\n",
        "import pandas as pd"
      ],
      "metadata": {
        "id": "oBfKcO4QVWDi"
      },
      "execution_count": 1,
      "outputs": []
    },
    {
      "cell_type": "markdown",
      "metadata": {
        "id": "K1VMqkGvhc3-"
      },
      "source": [
        "## Importing the dataset"
      ]
    },
    {
      "cell_type": "code",
      "source": [
        "dataset = pd.read_csv('Social_Network_Ads.csv')\n",
        "X = dataset.iloc[:, :-1].values\n",
        "y = dataset.iloc[:, -1].values"
      ],
      "metadata": {
        "id": "VOVYotheVb4a"
      },
      "execution_count": 2,
      "outputs": []
    },
    {
      "cell_type": "markdown",
      "metadata": {
        "id": "YvxIPVyMhmKp"
      },
      "source": [
        "## Splitting the dataset into the Training set and Test set"
      ]
    },
    {
      "cell_type": "code",
      "source": [
        "from sklearn.model_selection import train_test_split\n",
        "X_train, X_test, y_train, y_test = train_test_split(X, y, test_size = 0.25, random_state = 1)"
      ],
      "metadata": {
        "id": "rJ7-OOCgVgWn"
      },
      "execution_count": 3,
      "outputs": []
    },
    {
      "cell_type": "markdown",
      "metadata": {
        "id": "kW3c7UYih0hT"
      },
      "source": [
        "## Feature Scaling"
      ]
    },
    {
      "cell_type": "code",
      "source": [
        "from sklearn.preprocessing import StandardScaler\n",
        "sc = StandardScaler()\n",
        "X_train = sc.fit_transform(X_train)\n",
        "X_test = sc.fit_transform(X_test)"
      ],
      "metadata": {
        "id": "DPnb89SvVuRR"
      },
      "execution_count": 4,
      "outputs": []
    },
    {
      "cell_type": "code",
      "source": [
        "print(X_train)"
      ],
      "metadata": {
        "colab": {
          "base_uri": "https://localhost:8080/"
        },
        "id": "np-JCINPV93U",
        "outputId": "62232186-89c9-41ff-cd4a-f044e5c1e025"
      },
      "execution_count": 5,
      "outputs": [
        {
          "output_type": "stream",
          "name": "stdout",
          "text": [
            "[[-1.68062015e+00 -5.92416706e-01]\n",
            " [ 8.69241193e-01  5.63566526e-01]\n",
            " [-6.01832657e-01 -1.03702564e+00]\n",
            " [ 9.67312783e-01 -1.15558802e+00]\n",
            " [-2.09546297e-01 -5.62776110e-01]\n",
            " [ 1.82740063e-01  8.00691292e-01]\n",
            " [-4.05689477e-01  1.30458142e+00]\n",
            " [ 1.16345596e+00  5.04285335e-01]\n",
            " [ 7.71169603e-01  2.96801165e-01]\n",
            " [ 6.73098013e-01 -8.88822663e-01]\n",
            " [ 3.78883243e-01 -2.96010749e-01]\n",
            " [ 4.76954833e-01 -4.73854323e-01]\n",
            " [-2.09546297e-01  1.18957591e-01]\n",
            " [ 3.78883243e-01  8.93169951e-02]\n",
            " [-9.94119017e-01  8.00691292e-01]\n",
            " [-6.99904247e-01  1.39350321e+00]\n",
            " [ 3.78883243e-01 -5.03494919e-01]\n",
            " [ 3.78883243e-01 -5.03494919e-01]\n",
            " [-1.68062015e+00  3.85722952e-01]\n",
            " [ 8.69241193e-01 -8.29541472e-01]\n",
            " [-9.94119017e-01 -1.12594743e+00]\n",
            " [-2.09546297e-01  5.96763994e-02]\n",
            " [ 1.16345596e+00 -1.21486922e+00]\n",
            " [-2.09546297e-01  6.52488313e-01]\n",
            " [-1.34031173e-02  1.78238782e-01]\n",
            " [-5.03761067e-01  1.42314380e+00]\n",
            " [-1.11474707e-01  1.78238782e-01]\n",
            " [-1.68062015e+00  5.04285335e-01]\n",
            " [ 8.46684727e-02 -5.62776110e-01]\n",
            " [ 1.16345596e+00 -9.77744450e-01]\n",
            " [ 2.80811653e-01 -1.18167175e-01]\n",
            " [-1.34031173e-02  2.37519974e-01]\n",
            " [ 2.24224345e+00 -6.81338493e-01]\n",
            " [ 1.06538437e+00  2.04559631e+00]\n",
            " [ 2.80811653e-01  5.96763994e-02]\n",
            " [-1.11474707e-01 -1.77448366e-01]\n",
            " [-1.09219061e+00  3.56082356e-01]\n",
            " [-4.05689477e-01 -1.12594743e+00]\n",
            " [ 3.78883243e-01 -5.33135515e-01]\n",
            " [ 8.69241193e-01  1.48598186e-01]\n",
            " [-1.87676333e+00  3.85722952e-01]\n",
            " [-1.34031173e-02 -1.06666624e+00]\n",
            " [-2.09546297e-01 -4.73854323e-01]\n",
            " [-8.96047427e-01 -2.96010749e-01]\n",
            " [-1.34031173e-02  5.96763994e-02]\n",
            " [-1.87676333e+00 -7.40619685e-01]\n",
            " [ 8.46684727e-02 -2.36729558e-01]\n",
            " [-2.09546297e-01 -1.18167175e-01]\n",
            " [-6.01832657e-01 -8.85265792e-02]\n",
            " [ 9.67312783e-01 -1.30379100e+00]\n",
            " [ 4.76954833e-01  1.03781606e+00]\n",
            " [-1.77869174e+00 -1.48163458e+00]\n",
            " [-1.58254856e+00  8.93169951e-02]\n",
            " [-8.96047427e-01 -1.09630683e+00]\n",
            " [ 1.45767073e+00  2.40128346e+00]\n",
            " [ 1.55574232e+00  1.03781606e+00]\n",
            " [-1.19026220e+00  3.26441761e-01]\n",
            " [-1.09219061e+00  8.93169951e-02]\n",
            " [-1.09219061e+00 -1.60019696e+00]\n",
            " [ 2.80811653e-01  2.16415869e+00]\n",
            " [-2.09546297e-01 -9.18463259e-01]\n",
            " [ 1.94802868e+00  1.57134678e+00]\n",
            " [ 3.78883243e-01  5.33925931e-01]\n",
            " [-1.28833379e+00  5.93207122e-01]\n",
            " [-1.34031173e-02 -5.03494919e-01]\n",
            " [-2.09546297e-01  1.15637844e+00]\n",
            " [-5.03761067e-01  9.19253675e-01]\n",
            " [-2.09546297e-01  2.31236167e+00]\n",
            " [-1.77869174e+00 -1.27415041e+00]\n",
            " [ 8.69241193e-01  3.85722952e-01]\n",
            " [ 9.67312783e-01  1.06745665e+00]\n",
            " [ 7.71169603e-01 -7.10979089e-01]\n",
            " [ 8.46684727e-02 -5.33135515e-01]\n",
            " [-1.34031173e-02  7.11769505e-01]\n",
            " [-7.97975837e-01 -7.70260280e-01]\n",
            " [ 3.78883243e-01 -1.15558802e+00]\n",
            " [ 2.80811653e-01 -2.66370153e-01]\n",
            " [-9.94119017e-01  5.63566526e-01]\n",
            " [-9.94119017e-01  6.22847718e-01]\n",
            " [ 1.82740063e-01  5.96763994e-02]\n",
            " [-1.38640538e+00 -1.21486922e+00]\n",
            " [ 1.35959914e+00  2.28272108e+00]\n",
            " [-1.38640538e+00 -1.77448366e-01]\n",
            " [-1.34031173e-02  3.26441761e-01]\n",
            " [ 2.80811653e-01 -6.51697898e-01]\n",
            " [ 1.06538437e+00 -1.18522862e+00]\n",
            " [-2.09546297e-01 -2.96010749e-01]\n",
            " [-1.09219061e+00 -1.15558802e+00]\n",
            " [ 1.82740063e-01  1.09709725e+00]\n",
            " [-8.96047427e-01  4.45004144e-01]\n",
            " [ 2.14417186e+00  2.07879378e-01]\n",
            " [ 2.80811653e-01 -3.55291941e-01]\n",
            " [-2.09546297e-01  8.30331888e-01]\n",
            " [-1.09219061e+00  5.04285335e-01]\n",
            " [ 3.78883243e-01 -1.77448366e-01]\n",
            " [-7.97975837e-01 -6.51697898e-01]\n",
            " [-1.09219061e+00 -1.54091577e+00]\n",
            " [ 2.04610027e+00 -1.36307219e+00]\n",
            " [-6.99904247e-01 -2.07088962e-01]\n",
            " [-1.19026220e+00 -1.06666624e+00]\n",
            " [ 2.14417186e+00 -1.18522862e+00]\n",
            " [-8.96047427e-01 -9.48103855e-01]\n",
            " [ 1.82740063e-01  2.37519974e-01]\n",
            " [ 9.67312783e-01  1.12673784e+00]\n",
            " [ 1.45767073e+00  2.04559631e+00]\n",
            " [-7.97975837e-01 -7.70260280e-01]\n",
            " [-9.94119017e-01  2.01595572e+00]\n",
            " [-1.28833379e+00 -4.14573132e-01]\n",
            " [ 2.80811653e-01  8.93169951e-02]\n",
            " [-1.58254856e+00 -1.57055636e+00]\n",
            " [ 1.94802868e+00 -1.27415041e+00]\n",
            " [-6.99904247e-01  1.95667452e+00]\n",
            " [ 1.06538437e+00  1.48242499e+00]\n",
            " [ 2.80811653e-01 -3.55291941e-01]\n",
            " [-2.09546297e-01  1.78238782e-01]\n",
            " [-8.96047427e-01 -7.40619685e-01]\n",
            " [-1.34031173e-02  1.48598186e-01]\n",
            " [-2.09546297e-01 -1.24450981e+00]\n",
            " [-1.34031173e-02  2.96801165e-01]\n",
            " [-5.03761067e-01  1.51206559e+00]\n",
            " [-7.97975837e-01  1.78238782e-01]\n",
            " [-6.99904247e-01 -1.54091577e+00]\n",
            " [-1.19026220e+00  2.96801165e-01]\n",
            " [ 2.80811653e-01  1.12673784e+00]\n",
            " [-1.28833379e+00 -1.48163458e+00]\n",
            " [ 3.78883243e-01  8.93169951e-02]\n",
            " [ 8.46684727e-02 -2.36729558e-01]\n",
            " [-1.11474707e-01  2.22343989e+00]\n",
            " [ 4.76954833e-01 -1.47807771e-01]\n",
            " [ 1.06538437e+00 -1.06666624e+00]\n",
            " [ 1.06538437e+00 -1.15558802e+00]\n",
            " [-1.38640538e+00 -1.45199398e+00]\n",
            " [ 1.75188550e+00  1.80847155e+00]\n",
            " [-7.97975837e-01  2.34200227e+00]\n",
            " [ 4.76954833e-01 -1.18167175e-01]\n",
            " [-9.94119017e-01 -4.44213728e-01]\n",
            " [-1.34031173e-02 -4.14573132e-01]\n",
            " [-1.19026220e+00 -1.39271279e+00]\n",
            " [ 2.14417186e+00  2.19379929e+00]\n",
            " [ 4.76954833e-01 -4.44213728e-01]\n",
            " [-9.94119017e-01 -1.54091577e+00]\n",
            " [ 9.67312783e-01 -5.92416706e-01]\n",
            " [-8.96047427e-01 -2.96010749e-01]\n",
            " [-4.05689477e-01  3.95207943e-04]\n",
            " [-6.01832657e-01 -2.92453878e-02]\n",
            " [-2.09546297e-01 -1.36307219e+00]\n",
            " [-2.09546297e-01 -1.39271279e+00]\n",
            " [ 1.94802868e+00 -1.06666624e+00]\n",
            " [-6.99904247e-01  1.12673784e+00]\n",
            " [ 8.69241193e-01 -1.36307219e+00]\n",
            " [ 3.78883243e-01 -2.66370153e-01]\n",
            " [-4.05689477e-01 -8.29541472e-01]\n",
            " [-4.05689477e-01 -2.66370153e-01]\n",
            " [ 9.67312783e-01 -6.51697898e-01]\n",
            " [-8.96047427e-01 -4.14573132e-01]\n",
            " [ 7.71169603e-01 -1.09630683e+00]\n",
            " [-2.09546297e-01  1.78238782e-01]\n",
            " [ 2.14417186e+00 -7.99900876e-01]\n",
            " [ 9.67312783e-01 -5.62776110e-01]\n",
            " [ 9.67312783e-01 -5.33135515e-01]\n",
            " [-2.09546297e-01  2.96801165e-01]\n",
            " [ 1.82740063e-01 -7.99900876e-01]\n",
            " [ 2.80811653e-01  2.67160569e-01]\n",
            " [-1.38640538e+00 -6.22057302e-01]\n",
            " [ 1.82740063e-01  1.78238782e-01]\n",
            " [-2.09546297e-01 -3.55291941e-01]\n",
            " [ 1.75188550e+00 -8.88822663e-01]\n",
            " [-6.01832657e-01  5.96763994e-02]\n",
            " [-8.96047427e-01  1.60098738e+00]\n",
            " [ 4.76954833e-01  3.26441761e-01]\n",
            " [ 2.80811653e-01 -2.96010749e-01]\n",
            " [ 1.06538437e+00  1.48598186e-01]\n",
            " [-1.58254856e+00  5.63566526e-01]\n",
            " [ 1.55574232e+00  8.93169951e-02]\n",
            " [-9.94119017e-01 -3.25651345e-01]\n",
            " [-2.09546297e-01 -6.51697898e-01]\n",
            " [-8.96047427e-01  5.93207122e-01]\n",
            " [-1.09219061e+00  3.26441761e-01]\n",
            " [-5.03761067e-01  1.42314380e+00]\n",
            " [ 4.76954833e-01  1.78238782e-01]\n",
            " [-4.05689477e-01  2.37164286e+00]\n",
            " [ 3.78883243e-01  3.26441761e-01]\n",
            " [-6.01832657e-01 -3.25651345e-01]\n",
            " [ 1.82740063e-01  1.92703393e+00]\n",
            " [-9.94119017e-01 -1.45199398e+00]\n",
            " [-7.97975837e-01  4.15363548e-01]\n",
            " [-1.77869174e+00  3.00358036e-02]\n",
            " [-1.77869174e+00  4.74644739e-01]\n",
            " [-7.97975837e-01 -2.36729558e-01]\n",
            " [ 1.82740063e-01  1.92703393e+00]\n",
            " [-6.01832657e-01  2.07879378e-01]\n",
            " [ 3.78883243e-01  8.93169951e-02]\n",
            " [-1.09219061e+00  3.26441761e-01]\n",
            " [ 2.80811653e-01 -2.36729558e-01]\n",
            " [-2.09546297e-01 -1.30379100e+00]\n",
            " [ 1.06538437e+00  8.00691292e-01]\n",
            " [ 4.76954833e-01  2.37164286e+00]\n",
            " [-8.96047427e-01  2.96801165e-01]\n",
            " [ 1.35959914e+00  1.92703393e+00]\n",
            " [-4.05689477e-01 -1.21486922e+00]\n",
            " [ 4.76954833e-01 -4.44213728e-01]\n",
            " [ 7.71169603e-01 -1.39271279e+00]\n",
            " [-1.34031173e-02 -3.55291941e-01]\n",
            " [-3.07617887e-01  1.27494082e+00]\n",
            " [-2.09546297e-01 -8.88822663e-01]\n",
            " [-1.48447697e+00 -1.24450981e+00]\n",
            " [-2.09546297e-01  8.93169951e-02]\n",
            " [ 1.82740063e-01 -2.96010749e-01]\n",
            " [-1.68062015e+00  1.48598186e-01]\n",
            " [ 8.69241193e-01 -1.09630683e+00]\n",
            " [-1.09219061e+00 -7.70260280e-01]\n",
            " [-7.97975837e-01  4.15363548e-01]\n",
            " [ 1.75188550e+00  1.66026857e+00]\n",
            " [-1.34031173e-02  2.28272108e+00]\n",
            " [ 7.71169603e-01  1.83811214e+00]\n",
            " [-4.05689477e-01 -7.70260280e-01]\n",
            " [ 3.78883243e-01 -7.10979089e-01]\n",
            " [ 4.76954833e-01  2.96801165e-01]\n",
            " [-1.34031173e-02  2.01595572e+00]\n",
            " [-1.28833379e+00  4.45004144e-01]\n",
            " [-5.03761067e-01 -1.51127517e+00]\n",
            " [ 1.84995709e+00  1.03781606e+00]\n",
            " [ 1.16345596e+00 -8.88822663e-01]\n",
            " [-8.96047427e-01  4.74644739e-01]\n",
            " [ 1.55574232e+00  2.19379929e+00]\n",
            " [-6.99904247e-01  5.93207122e-01]\n",
            " [ 1.94802868e+00 -2.66370153e-01]\n",
            " [ 2.80811653e-01  1.78238782e-01]\n",
            " [ 3.78883243e-01  2.96801165e-01]\n",
            " [-1.68062015e+00  3.85722952e-01]\n",
            " [-1.48447697e+00 -4.14573132e-01]\n",
            " [-2.09546297e-01  5.63566526e-01]\n",
            " [ 1.65381391e+00  3.00358036e-02]\n",
            " [-6.01832657e-01 -1.60019696e+00]\n",
            " [ 1.26152755e+00 -9.77744450e-01]\n",
            " [ 4.76954833e-01 -1.18167175e-01]\n",
            " [-3.07617887e-01 -7.70260280e-01]\n",
            " [ 4.76954833e-01  1.15637844e+00]\n",
            " [ 1.65381391e+00 -1.27415041e+00]\n",
            " [-1.77869174e+00 -1.42235339e+00]\n",
            " [-1.11474707e-01 -5.62776110e-01]\n",
            " [-1.34031173e-02  3.00358036e-02]\n",
            " [-1.11474707e-01  1.68990916e+00]\n",
            " [ 9.67312783e-01 -1.45199398e+00]\n",
            " [-6.99904247e-01  2.96801165e-01]\n",
            " [ 2.14417186e+00  4.15363548e-01]\n",
            " [-7.97975837e-01  3.26441761e-01]\n",
            " [ 5.75026423e-01  1.27494082e+00]\n",
            " [ 8.46684727e-02  3.26441761e-01]\n",
            " [ 2.04610027e+00  2.22343989e+00]\n",
            " [-1.11474707e-01  1.66026857e+00]\n",
            " [ 1.16345596e+00 -1.21486922e+00]\n",
            " [-1.87676333e+00 -5.03494919e-01]\n",
            " [-6.99904247e-01 -1.60019696e+00]\n",
            " [ 2.14417186e+00  5.63566526e-01]\n",
            " [-9.94119017e-01 -3.55291941e-01]\n",
            " [ 8.46684727e-02  5.96763994e-02]\n",
            " [-6.01832657e-01  5.93207122e-01]\n",
            " [ 9.67312783e-01 -1.03702564e+00]\n",
            " [-6.01832657e-01  1.48598186e-01]\n",
            " [-1.34031173e-02  8.93169951e-02]\n",
            " [ 2.80811653e-01 -3.55291941e-01]\n",
            " [ 2.14417186e+00  1.80847155e+00]\n",
            " [ 1.16345596e+00 -1.18167175e-01]\n",
            " [ 1.06538437e+00  6.22847718e-01]\n",
            " [ 8.69241193e-01 -1.39271279e+00]\n",
            " [ 1.65381391e+00  1.03781606e+00]\n",
            " [-2.09546297e-01 -1.45199398e+00]\n",
            " [ 1.16345596e+00  2.13451810e+00]\n",
            " [ 1.06538437e+00 -8.29541472e-01]\n",
            " [-2.09546297e-01 -4.14573132e-01]\n",
            " [-1.11474707e-01 -2.66370153e-01]\n",
            " [-5.03761067e-01  2.40128346e+00]\n",
            " [-1.87676333e+00 -2.92453878e-02]\n",
            " [-1.28833379e+00 -4.14573132e-01]\n",
            " [ 4.76954833e-01  6.22847718e-01]\n",
            " [ 8.46684727e-02 -2.96010749e-01]\n",
            " [ 2.24224345e+00  1.15637844e+00]\n",
            " [-1.48447697e+00 -1.77448366e-01]\n",
            " [-1.28833379e+00 -1.09630683e+00]\n",
            " [ 8.69241193e-01 -2.96010749e-01]\n",
            " [ 1.06538437e+00  1.92703393e+00]\n",
            " [ 3.78883243e-01  8.93169951e-02]\n",
            " [ 1.26152755e+00 -7.40619685e-01]\n",
            " [ 8.46684727e-02  5.96763994e-02]\n",
            " [-1.28833379e+00 -1.36307219e+00]\n",
            " [-2.09546297e-01 -2.36729558e-01]\n",
            " [-1.34031173e-02  3.26441761e-01]\n",
            " [-1.28833379e+00 -1.24450981e+00]\n",
            " [-1.09219061e+00  4.45004144e-01]\n",
            " [-3.07617887e-01 -1.30379100e+00]\n",
            " [-1.11474707e-01 -4.44213728e-01]\n",
            " [-1.58254856e+00 -2.92453878e-02]\n",
            " [ 3.78883243e-01  5.96763994e-02]\n",
            " [ 2.24224345e+00 -7.99900876e-01]\n",
            " [ 1.45767073e+00  6.22847718e-01]\n",
            " [-1.68062015e+00 -1.36307219e+00]\n",
            " [ 1.35959914e+00 -1.36307219e+00]\n",
            " [ 8.69241193e-01  2.96801165e-01]\n",
            " [-6.99904247e-01 -5.92416706e-01]]\n"
          ]
        }
      ]
    },
    {
      "cell_type": "code",
      "source": [
        "print(y_train)"
      ],
      "metadata": {
        "colab": {
          "base_uri": "https://localhost:8080/"
        },
        "id": "7KCSv9cQV981",
        "outputId": "8e4d8db8-1e75-446c-838e-e6bccabd10ee"
      },
      "execution_count": 6,
      "outputs": [
        {
          "output_type": "stream",
          "name": "stdout",
          "text": [
            "[0 1 0 1 0 1 0 1 0 0 0 0 0 0 1 0 0 0 0 1 0 0 1 1 0 0 0 0 0 1 0 0 1 1 1 0 0\n",
            " 0 0 0 0 0 0 0 0 0 0 0 0 1 1 0 0 0 1 1 0 0 0 1 0 1 1 0 0 0 1 1 0 0 1 1 0 1\n",
            " 0 0 0 0 0 0 0 1 0 0 0 1 0 0 1 0 1 0 1 0 0 0 0 1 0 0 1 0 0 1 1 0 1 0 0 0 1\n",
            " 1 1 0 0 0 0 0 1 1 0 0 0 1 0 0 0 1 0 1 1 0 1 1 0 0 0 0 1 0 0 1 0 0 0 0 0 1\n",
            " 1 1 0 0 0 0 0 1 0 0 1 1 0 0 0 0 1 0 1 0 1 0 0 1 0 1 0 0 0 0 1 0 1 0 0 1 0\n",
            " 0 0 0 0 1 0 0 0 0 0 1 1 0 0 0 0 1 0 1 0 0 0 0 0 1 0 0 1 1 1 0 0 0 1 0 0 1\n",
            " 1 0 1 0 1 0 0 0 0 0 1 0 1 0 0 1 1 0 0 1 1 1 0 0 0 1 0 1 1 1 0 0 1 0 0 0 1\n",
            " 0 0 0 1 0 1 0 1 0 1 1 0 0 1 0 0 1 0 1 0 0 0 1 0 0 0 0 0 0 0 0 0 0 0 0 1 1\n",
            " 0 1 1 0]\n"
          ]
        }
      ]
    },
    {
      "cell_type": "code",
      "source": [
        "print(X_test)"
      ],
      "metadata": {
        "colab": {
          "base_uri": "https://localhost:8080/"
        },
        "id": "yiGCCx52V-MN",
        "outputId": "d670ee03-090d-4b4e-9304-3db115197c4b"
      },
      "execution_count": 7,
      "outputs": [
        {
          "output_type": "stream",
          "name": "stdout",
          "text": [
            "[[-2.89053269e-01 -1.11810479e+00]\n",
            " [-1.89100270e-02 -3.15568669e-01]\n",
            " [-2.89053269e-01  1.31816558e+00]\n",
            " [-1.89100270e-02  1.43281360e+00]\n",
            " [-1.18953074e+00  1.31816558e+00]\n",
            " [-1.08957774e-01 -2.00920651e-01]\n",
            " [-1.72981723e+00 -1.03211878e+00]\n",
            " [ 8.81567447e-01  4.86967455e-01]\n",
            " [-7.39292006e-01 -1.54803486e+00]\n",
            " [ 7.91519700e-01  1.97739168e+00]\n",
            " [-4.69148764e-01 -2.86620044e-04]\n",
            " [-1.89100270e-02  2.83753844e-02]\n",
            " [-3.79101017e-01 -2.86620044e-04]\n",
            " [ 7.91519700e-01  1.69077164e+00]\n",
            " [ 1.24175844e+00  2.86333424e-01]\n",
            " [ 1.51190168e+00  1.74809565e+00]\n",
            " [ 1.87209267e+00  3.14995428e-01]\n",
            " [-1.09948300e+00 -4.01554682e-01]\n",
            " [-1.00943525e+00  4.29643446e-01]\n",
            " [ 1.87209267e+00  8.59573512e-01]\n",
            " [ 7.11377205e-02  8.56993932e-02]\n",
            " [ 9.71615195e-01  4.58305450e-01]\n",
            " [ 4.31328710e-01  1.92006768e+00]\n",
            " [ 7.01471952e-01 -8.31484748e-01]\n",
            " [ 5.21376458e-01 -1.31873882e+00]\n",
            " [-1.18953074e+00 -1.63402087e+00]\n",
            " [ 1.69199717e+00 -7.16836730e-01]\n",
            " [ 8.81567447e-01  5.70373888e-02]\n",
            " [ 1.24175844e+00 -1.08944279e+00]\n",
            " [ 1.15171069e+00  1.20351757e+00]\n",
            " [-1.89100270e-02 -8.60146752e-01]\n",
            " [-1.81986498e+00  1.14361398e-01]\n",
            " [-1.90991272e+00  4.00981442e-01]\n",
            " [ 1.60194943e+00  5.70373888e-02]\n",
            " [-1.09948300e+00  3.43657433e-01]\n",
            " [-8.29339754e-01  2.29009415e-01]\n",
            " [-1.54972173e+00 -1.54803486e+00]\n",
            " [-6.49244259e-01  4.00981442e-01]\n",
            " [ 9.71615195e-01 -1.49071085e+00]\n",
            " [-1.81986498e+00 -1.34740083e+00]\n",
            " [ 7.01471952e-01  2.06337770e+00]\n",
            " [ 1.69199717e+00  8.30911508e-01]\n",
            " [-4.69148764e-01  1.23217957e+00]\n",
            " [-1.45967399e+00 -1.72258646e-01]\n",
            " [ 1.51190168e+00 -3.44230673e-01]\n",
            " [-7.39292006e-01  1.31816558e+00]\n",
            " [ 7.91519700e-01 -1.06078078e+00]\n",
            " [ 7.01471952e-01  1.17485556e+00]\n",
            " [-1.89100270e-02  2.00347411e-01]\n",
            " [ 1.15171069e+00 -9.74794770e-01]\n",
            " [-1.36962624e+00 -4.01554682e-01]\n",
            " [-1.99005522e-01 -5.44864704e-01]\n",
            " [ 2.51233215e-01  2.29009415e-01]\n",
            " [ 6.11424205e-01 -1.26141481e+00]\n",
            " [ 2.51233215e-01  2.83753844e-02]\n",
            " [-1.99005522e-01 -2.86906664e-01]\n",
            " [ 1.87209267e+00 -8.60146752e-01]\n",
            " [-2.89053269e-01 -5.73526708e-01]\n",
            " [ 1.69199717e+00  6.58939481e-01]\n",
            " [ 3.41280963e-01  1.63344763e+00]\n",
            " [-1.09948300e+00  4.86967455e-01]\n",
            " [-1.45967399e+00  2.86333424e-01]\n",
            " [-1.08957774e-01  1.14619356e+00]\n",
            " [-3.79101017e-01 -6.30850717e-01]\n",
            " [-2.89053269e-01  7.73587499e-01]\n",
            " [-1.99005522e-01  2.06337770e+00]\n",
            " [-1.18953074e+00 -1.06078078e+00]\n",
            " [ 2.51233215e-01 -5.76106289e-02]\n",
            " [ 3.41280963e-01  1.74809565e+00]\n",
            " [-1.08957774e-01 -6.30850717e-01]\n",
            " [ 6.11424205e-01  6.87601486e-01]\n",
            " [-3.79101017e-01 -8.02822743e-01]\n",
            " [-1.08957774e-01  1.17485556e+00]\n",
            " [-1.89100270e-02 -2.89486244e-02]\n",
            " [-1.18953074e+00 -5.73526708e-01]\n",
            " [ 1.33180618e+00  1.03154554e+00]\n",
            " [-5.59196511e-01 -6.02188713e-01]\n",
            " [-1.18953074e+00 -1.60535887e+00]\n",
            " [-8.29339754e-01  4.29643446e-01]\n",
            " [-3.79101017e-01 -3.44230673e-01]\n",
            " [-9.19387501e-01 -1.26141481e+00]\n",
            " [ 5.21376458e-01 -1.43338684e+00]\n",
            " [ 6.11424205e-01  1.28950358e+00]\n",
            " [-6.49244259e-01 -1.54803486e+00]\n",
            " [-1.54972173e+00  2.57671420e-01]\n",
            " [-1.27957849e+00  4.29643446e-01]\n",
            " [ 7.91519700e-01 -1.11810479e+00]\n",
            " [-3.79101017e-01 -4.01554682e-01]\n",
            " [ 7.01471952e-01 -1.40472484e+00]\n",
            " [-1.18953074e+00 -1.14676680e+00]\n",
            " [-6.49244259e-01  1.80541966e+00]\n",
            " [ 1.87209267e+00 -1.08944279e+00]\n",
            " [ 1.15171069e+00 -1.46204884e+00]\n",
            " [-1.08957774e-01 -4.87540695e-01]\n",
            " [-1.27957849e+00  5.15629459e-01]\n",
            " [ 1.69199717e+00 -9.74794770e-01]\n",
            " [ 8.81567447e-01  4.58305450e-01]\n",
            " [-1.99005522e-01  1.71685406e-01]\n",
            " [-3.79101017e-01  1.43023402e-01]\n",
            " [-4.69148764e-01 -8.31484748e-01]]\n"
          ]
        }
      ]
    },
    {
      "cell_type": "code",
      "source": [
        "print(y_test)"
      ],
      "metadata": {
        "colab": {
          "base_uri": "https://localhost:8080/"
        },
        "id": "BDrkAav3V-ZV",
        "outputId": "a27fc098-276f-47c4-8e62-ee67cf37d7e0"
      },
      "execution_count": 8,
      "outputs": [
        {
          "output_type": "stream",
          "name": "stdout",
          "text": [
            "[0 0 1 1 0 0 0 1 0 0 0 0 0 1 1 1 1 0 0 1 0 1 1 0 1 0 1 0 1 0 0 0 0 1 0 0 0\n",
            " 0 1 0 1 1 0 0 1 1 1 1 0 1 0 0 1 1 1 0 1 0 1 1 0 0 0 0 1 1 0 0 0 0 0 0 1 0\n",
            " 0 1 0 0 0 0 0 1 1 0 0 0 1 0 1 0 1 1 1 0 0 1 1 1 0 0]\n"
          ]
        }
      ]
    },
    {
      "cell_type": "markdown",
      "metadata": {
        "id": "bb6jCOCQiAmP"
      },
      "source": [
        "## Training the Kernel SVM model on the Training set"
      ]
    },
    {
      "cell_type": "code",
      "source": [
        "from sklearn.svm import SVC\n",
        "classifier = SVC(kernel='rbf',random_state=0)\n",
        "classifier.fit(X_train,y_train)"
      ],
      "metadata": {
        "colab": {
          "base_uri": "https://localhost:8080/",
          "height": 75
        },
        "id": "N2kDyc9FWsWQ",
        "outputId": "09160074-dbec-4052-9c74-b061181bdc56"
      },
      "execution_count": 9,
      "outputs": [
        {
          "output_type": "execute_result",
          "data": {
            "text/plain": [
              "SVC(random_state=0)"
            ],
            "text/html": [
              "<style>#sk-container-id-1 {color: black;background-color: white;}#sk-container-id-1 pre{padding: 0;}#sk-container-id-1 div.sk-toggleable {background-color: white;}#sk-container-id-1 label.sk-toggleable__label {cursor: pointer;display: block;width: 100%;margin-bottom: 0;padding: 0.3em;box-sizing: border-box;text-align: center;}#sk-container-id-1 label.sk-toggleable__label-arrow:before {content: \"▸\";float: left;margin-right: 0.25em;color: #696969;}#sk-container-id-1 label.sk-toggleable__label-arrow:hover:before {color: black;}#sk-container-id-1 div.sk-estimator:hover label.sk-toggleable__label-arrow:before {color: black;}#sk-container-id-1 div.sk-toggleable__content {max-height: 0;max-width: 0;overflow: hidden;text-align: left;background-color: #f0f8ff;}#sk-container-id-1 div.sk-toggleable__content pre {margin: 0.2em;color: black;border-radius: 0.25em;background-color: #f0f8ff;}#sk-container-id-1 input.sk-toggleable__control:checked~div.sk-toggleable__content {max-height: 200px;max-width: 100%;overflow: auto;}#sk-container-id-1 input.sk-toggleable__control:checked~label.sk-toggleable__label-arrow:before {content: \"▾\";}#sk-container-id-1 div.sk-estimator input.sk-toggleable__control:checked~label.sk-toggleable__label {background-color: #d4ebff;}#sk-container-id-1 div.sk-label input.sk-toggleable__control:checked~label.sk-toggleable__label {background-color: #d4ebff;}#sk-container-id-1 input.sk-hidden--visually {border: 0;clip: rect(1px 1px 1px 1px);clip: rect(1px, 1px, 1px, 1px);height: 1px;margin: -1px;overflow: hidden;padding: 0;position: absolute;width: 1px;}#sk-container-id-1 div.sk-estimator {font-family: monospace;background-color: #f0f8ff;border: 1px dotted black;border-radius: 0.25em;box-sizing: border-box;margin-bottom: 0.5em;}#sk-container-id-1 div.sk-estimator:hover {background-color: #d4ebff;}#sk-container-id-1 div.sk-parallel-item::after {content: \"\";width: 100%;border-bottom: 1px solid gray;flex-grow: 1;}#sk-container-id-1 div.sk-label:hover label.sk-toggleable__label {background-color: #d4ebff;}#sk-container-id-1 div.sk-serial::before {content: \"\";position: absolute;border-left: 1px solid gray;box-sizing: border-box;top: 0;bottom: 0;left: 50%;z-index: 0;}#sk-container-id-1 div.sk-serial {display: flex;flex-direction: column;align-items: center;background-color: white;padding-right: 0.2em;padding-left: 0.2em;position: relative;}#sk-container-id-1 div.sk-item {position: relative;z-index: 1;}#sk-container-id-1 div.sk-parallel {display: flex;align-items: stretch;justify-content: center;background-color: white;position: relative;}#sk-container-id-1 div.sk-item::before, #sk-container-id-1 div.sk-parallel-item::before {content: \"\";position: absolute;border-left: 1px solid gray;box-sizing: border-box;top: 0;bottom: 0;left: 50%;z-index: -1;}#sk-container-id-1 div.sk-parallel-item {display: flex;flex-direction: column;z-index: 1;position: relative;background-color: white;}#sk-container-id-1 div.sk-parallel-item:first-child::after {align-self: flex-end;width: 50%;}#sk-container-id-1 div.sk-parallel-item:last-child::after {align-self: flex-start;width: 50%;}#sk-container-id-1 div.sk-parallel-item:only-child::after {width: 0;}#sk-container-id-1 div.sk-dashed-wrapped {border: 1px dashed gray;margin: 0 0.4em 0.5em 0.4em;box-sizing: border-box;padding-bottom: 0.4em;background-color: white;}#sk-container-id-1 div.sk-label label {font-family: monospace;font-weight: bold;display: inline-block;line-height: 1.2em;}#sk-container-id-1 div.sk-label-container {text-align: center;}#sk-container-id-1 div.sk-container {/* jupyter's `normalize.less` sets `[hidden] { display: none; }` but bootstrap.min.css set `[hidden] { display: none !important; }` so we also need the `!important` here to be able to override the default hidden behavior on the sphinx rendered scikit-learn.org. See: https://github.com/scikit-learn/scikit-learn/issues/21755 */display: inline-block !important;position: relative;}#sk-container-id-1 div.sk-text-repr-fallback {display: none;}</style><div id=\"sk-container-id-1\" class=\"sk-top-container\"><div class=\"sk-text-repr-fallback\"><pre>SVC(random_state=0)</pre><b>In a Jupyter environment, please rerun this cell to show the HTML representation or trust the notebook. <br />On GitHub, the HTML representation is unable to render, please try loading this page with nbviewer.org.</b></div><div class=\"sk-container\" hidden><div class=\"sk-item\"><div class=\"sk-estimator sk-toggleable\"><input class=\"sk-toggleable__control sk-hidden--visually\" id=\"sk-estimator-id-1\" type=\"checkbox\" checked><label for=\"sk-estimator-id-1\" class=\"sk-toggleable__label sk-toggleable__label-arrow\">SVC</label><div class=\"sk-toggleable__content\"><pre>SVC(random_state=0)</pre></div></div></div></div></div>"
            ]
          },
          "metadata": {},
          "execution_count": 9
        }
      ]
    },
    {
      "cell_type": "markdown",
      "metadata": {
        "id": "yyxW5b395mR2"
      },
      "source": [
        "## Predicting a new result"
      ]
    },
    {
      "cell_type": "code",
      "source": [
        "classifier.predict(sc.transform([[27,84000]]))"
      ],
      "metadata": {
        "colab": {
          "base_uri": "https://localhost:8080/"
        },
        "id": "fgwuXnffkQD1",
        "outputId": "19c71232-168b-4777-a2ee-6b3d3b8ec17b"
      },
      "execution_count": 10,
      "outputs": [
        {
          "output_type": "execute_result",
          "data": {
            "text/plain": [
              "array([0])"
            ]
          },
          "metadata": {},
          "execution_count": 10
        }
      ]
    },
    {
      "cell_type": "markdown",
      "metadata": {
        "id": "vKYVQH-l5NpE"
      },
      "source": [
        "## Predicting the Test set results"
      ]
    },
    {
      "cell_type": "code",
      "source": [
        "y_predict = classifier.predict(X_test)\n",
        "\n",
        "print(np.concatenate((y_predict.reshape(len(y_predict),1),y_test.reshape(len(y_test),1)),1))#comparing predictions with real purchased decisions"
      ],
      "metadata": {
        "colab": {
          "base_uri": "https://localhost:8080/"
        },
        "id": "AKTRyq8xkRFh",
        "outputId": "c5272561-ebf4-40d5-db3a-3557048213d4"
      },
      "execution_count": 11,
      "outputs": [
        {
          "output_type": "stream",
          "name": "stdout",
          "text": [
            "[[0 0]\n",
            " [0 0]\n",
            " [1 1]\n",
            " [1 1]\n",
            " [1 0]\n",
            " [0 0]\n",
            " [0 0]\n",
            " [1 1]\n",
            " [0 0]\n",
            " [1 0]\n",
            " [0 0]\n",
            " [0 0]\n",
            " [0 0]\n",
            " [1 1]\n",
            " [1 1]\n",
            " [1 1]\n",
            " [1 1]\n",
            " [0 0]\n",
            " [0 0]\n",
            " [1 1]\n",
            " [0 0]\n",
            " [1 1]\n",
            " [1 1]\n",
            " [1 0]\n",
            " [1 1]\n",
            " [0 0]\n",
            " [1 1]\n",
            " [0 0]\n",
            " [1 1]\n",
            " [1 0]\n",
            " [0 0]\n",
            " [0 0]\n",
            " [0 0]\n",
            " [1 1]\n",
            " [0 0]\n",
            " [0 0]\n",
            " [0 0]\n",
            " [0 0]\n",
            " [1 1]\n",
            " [0 0]\n",
            " [1 1]\n",
            " [1 1]\n",
            " [1 0]\n",
            " [0 0]\n",
            " [1 1]\n",
            " [1 1]\n",
            " [1 1]\n",
            " [1 1]\n",
            " [0 0]\n",
            " [1 1]\n",
            " [0 0]\n",
            " [0 0]\n",
            " [0 1]\n",
            " [1 1]\n",
            " [0 1]\n",
            " [0 0]\n",
            " [1 1]\n",
            " [0 0]\n",
            " [1 1]\n",
            " [1 1]\n",
            " [0 0]\n",
            " [0 0]\n",
            " [1 0]\n",
            " [0 0]\n",
            " [0 1]\n",
            " [1 1]\n",
            " [0 0]\n",
            " [0 0]\n",
            " [1 0]\n",
            " [0 0]\n",
            " [1 0]\n",
            " [0 0]\n",
            " [1 1]\n",
            " [0 0]\n",
            " [0 0]\n",
            " [1 1]\n",
            " [0 0]\n",
            " [0 0]\n",
            " [0 0]\n",
            " [0 0]\n",
            " [0 0]\n",
            " [1 1]\n",
            " [1 1]\n",
            " [0 0]\n",
            " [0 0]\n",
            " [0 0]\n",
            " [1 1]\n",
            " [0 0]\n",
            " [1 1]\n",
            " [0 0]\n",
            " [1 1]\n",
            " [1 1]\n",
            " [1 1]\n",
            " [0 0]\n",
            " [0 0]\n",
            " [1 1]\n",
            " [1 1]\n",
            " [0 1]\n",
            " [0 0]\n",
            " [0 0]]\n"
          ]
        }
      ]
    },
    {
      "cell_type": "markdown",
      "metadata": {
        "id": "h4Hwj34ziWQW"
      },
      "source": [
        "## Making the Confusion Matrix"
      ]
    },
    {
      "cell_type": "code",
      "source": [
        "from sklearn.metrics import confusion_matrix,accuracy_score\n",
        "cm = confusion_matrix(y_test,y_predict)\n",
        "print(cm)\n",
        "accuracy_score(y_test,y_predict)"
      ],
      "metadata": {
        "colab": {
          "base_uri": "https://localhost:8080/"
        },
        "id": "d5FxPcyCkSWm",
        "outputId": "b67fb479-111b-4573-bba4-40fc24005813"
      },
      "execution_count": 12,
      "outputs": [
        {
          "output_type": "stream",
          "name": "stdout",
          "text": [
            "[[50  8]\n",
            " [ 4 38]]\n"
          ]
        },
        {
          "output_type": "execute_result",
          "data": {
            "text/plain": [
              "0.88"
            ]
          },
          "metadata": {},
          "execution_count": 12
        }
      ]
    },
    {
      "cell_type": "markdown",
      "metadata": {
        "id": "6OMC_P0diaoD"
      },
      "source": [
        "## Visualising the Training set results"
      ]
    },
    {
      "cell_type": "code",
      "source": [
        "from matplotlib.colors import ListedColormap\n",
        "X_set, y_set = sc.inverse_transform(X_train), y_train\n",
        "X1, X2 = np.meshgrid(np.arange(start = X_set[:, 0].min() - 10, stop = X_set[:, 0].max() + 10, step = 0.25),\n",
        "                     np.arange(start = X_set[:, 1].min() - 1000, stop = X_set[:, 1].max() + 1000, step = 0.25))\n",
        "plt.contourf(X1, X2, classifier.predict(sc.transform(np.array([X1.ravel(), X2.ravel()]).T)).reshape(X1.shape),\n",
        "             alpha = 0.75, cmap = ListedColormap(('red', 'green')))\n",
        "plt.xlim(X1.min(), X1.max())\n",
        "plt.ylim(X2.min(), X2.max())\n",
        "for i, j in enumerate(np.unique(y_set)):\n",
        "    plt.scatter(X_set[y_set == j, 0], X_set[y_set == j, 1], c = ListedColormap(('red', 'green'))(i), label = j)\n",
        "plt.title('KERNEL SVM (Training set)')\n",
        "plt.xlabel('Age')\n",
        "plt.ylabel('Estimated Salary')\n",
        "plt.legend()\n",
        "plt.show()"
      ],
      "metadata": {
        "colab": {
          "base_uri": "https://localhost:8080/",
          "height": 527
        },
        "id": "2Xyjp5l3kUhz",
        "outputId": "eeed88f4-a48c-428c-bf0c-e5701239158d"
      },
      "execution_count": 13,
      "outputs": [
        {
          "output_type": "stream",
          "name": "stderr",
          "text": [
            "<ipython-input-13-93a8b7c42f88>:10: UserWarning: *c* argument looks like a single numeric RGB or RGBA sequence, which should be avoided as value-mapping will have precedence in case its length matches with *x* & *y*.  Please use the *color* keyword-argument or provide a 2D array with a single row if you intend to specify the same RGB or RGBA value for all points.\n",
            "  plt.scatter(X_set[y_set == j, 0], X_set[y_set == j, 1], c = ListedColormap(('red', 'green'))(i), label = j)\n"
          ]
        },
        {
          "output_type": "display_data",
          "data": {
            "text/plain": [
              "<Figure size 640x480 with 1 Axes>"
            ],
            "image/png": "[encoded data removed]"
          },
          "metadata": {}
        }
      ]
    },
    {
      "cell_type": "markdown",
      "metadata": {
        "id": "SZ-j28aPihZx"
      },
      "source": [
        "## Visualising the Test set results"
      ]
    },
    {
      "cell_type": "code",
      "source": [
        "from matplotlib.colors import ListedColormap\n",
        "X_set, y_set = sc.inverse_transform(X_test), y_test\n",
        "X1, X2 = np.meshgrid(np.arange(start = X_set[:, 0].min() - 10, stop = X_set[:, 0].max() + 10, step = 0.25),\n",
        "                     np.arange(start = X_set[:, 1].min() - 1000, stop = X_set[:, 1].max() + 1000, step = 0.25))\n",
        "plt.contourf(X1, X2, classifier.predict(sc.transform(np.array([X1.ravel(), X2.ravel()]).T)).reshape(X1.shape),\n",
        "             alpha = 0.75, cmap = ListedColormap(('red', 'green')))\n",
        "plt.xlim(X1.min(), X1.max())\n",
        "plt.ylim(X2.min(), X2.max())\n",
        "for i, j in enumerate(np.unique(y_set)):\n",
        "    plt.scatter(X_set[y_set == j, 0], X_set[y_set == j, 1], c = ListedColormap(('red', 'green'))(i), label = j)\n",
        "plt.title('KERNEL SVM (Test set)')\n",
        "plt.xlabel('Age')\n",
        "plt.ylabel('Estimated Salary')\n",
        "plt.legend()\n",
        "plt.show()"
      ],
      "metadata": {
        "colab": {
          "base_uri": "https://localhost:8080/",
          "height": 527
        },
        "id": "dQTByqkrkVtk",
        "outputId": "738b0631-61af-4ad5-fbb1-c73303c571e5"
      },
      "execution_count": 14,
      "outputs": [
        {
          "output_type": "stream",
          "name": "stderr",
          "text": [
            "<ipython-input-14-bda0000e6dcf>:10: UserWarning: *c* argument looks like a single numeric RGB or RGBA sequence, which should be avoided as value-mapping will have precedence in case its length matches with *x* & *y*.  Please use the *color* keyword-argument or provide a 2D array with a single row if you intend to specify the same RGB or RGBA value for all points.\n",
            "  plt.scatter(X_set[y_set == j, 0], X_set[y_set == j, 1], c = ListedColormap(('red', 'green'))(i), label = j)\n"
          ]
        },
        {
          "output_type": "display_data",
          "data": {
            "text/plain": [
              "<Figure size 640x480 with 1 Axes>"
            ],
            "image/png": "[encoded data removed]"
          },
          "metadata": {}
        }
      ]
    }
  ]
}